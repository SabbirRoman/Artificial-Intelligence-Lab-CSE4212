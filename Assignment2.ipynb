{
  "nbformat": 4,
  "nbformat_minor": 0,
  "metadata": {
    "colab": {
      "provenance": [],
      "authorship_tag": "ABX9TyPWfx0k/qFgTIWT567ezRKy",
      "include_colab_link": true
    },
    "kernelspec": {
      "name": "python3",
      "display_name": "Python 3"
    },
    "language_info": {
      "name": "python"
    }
  },
  "cells": [
    {
      "cell_type": "markdown",
      "metadata": {
        "id": "view-in-github",
        "colab_type": "text"
      },
      "source": [
        "<a href=\"https://colab.research.google.com/github/SabbirRoman/Artificial-Intelligence-Lab-CSE4212/blob/main/Assignment2.ipynb\" target=\"_parent\"><img src=\"https://colab.research.google.com/assets/colab-badge.svg\" alt=\"Open In Colab\"/></a>"
      ]
    },
    {
      "cell_type": "markdown",
      "source": [
        "#abc\n"
      ],
      "metadata": {
        "id": "XK_8a2ZcUzjl"
      }
    },
    {
      "cell_type": "markdown",
      "source": [
        "#Import all Libraries"
      ],
      "metadata": {
        "id": "9vN84G5rxsQH"
      }
    },
    {
      "cell_type": "code",
      "source": [
        "from tensorflow.keras import layers, Model\n",
        "from keras.applications import vgg16"
      ],
      "metadata": {
        "id": "Dzuvph1kU5qN"
      },
      "execution_count": 33,
      "outputs": []
    },
    {
      "cell_type": "markdown",
      "source": [
        "#Model like Exactly vgg16"
      ],
      "metadata": {
        "id": "aQgWX4dax2UZ"
      }
    },
    {
      "cell_type": "code",
      "source": [
        "def create_model():\n",
        "\n",
        "\tinputs = layers.Input(shape=(224,224,3))\n",
        "\n",
        "\tx = layers.Conv2D(filters=64, kernel_size=(3,3), padding='same', activation='relu')(inputs)\n",
        "\tx = layers.Conv2D(filters=64, kernel_size=(3,3), padding='same', activation='relu')(x)\n",
        "\tx = layers.MaxPooling2D()(x)\n",
        "\n",
        "\tx = layers.Conv2D(filters=128, kernel_size=(3,3), padding='same', activation='relu')(x)\n",
        "\tx = layers.Conv2D(filters=128, kernel_size=(3,3), padding='same', activation='relu')(x)\n",
        "\tx = layers.MaxPooling2D()(x)\n",
        "\n",
        "\tx = layers.Conv2D(filters=256, kernel_size=(3,3), padding='same', activation='relu')(x)\n",
        "\tx = layers.Conv2D(filters=256, kernel_size=(3,3), padding='same', activation='relu')(x)\n",
        "\tx = layers.Conv2D(filters=256, kernel_size=(3,3), padding='same', activation='relu')(x)\n",
        "\tx = layers.MaxPooling2D()(x)\n",
        "\n",
        "\tx = layers.Conv2D(filters=512, kernel_size=(3,3), padding='same', activation='relu')(x)\n",
        "\tx = layers.Conv2D(filters=512, kernel_size=(3,3), padding='same', activation='relu')(x)\n",
        "\tx = layers.Conv2D(filters=512, kernel_size=(3,3), padding='same', activation='relu')(x)\n",
        "\tx = layers.MaxPooling2D()(x)\n",
        "\n",
        "\tx = layers.Conv2D(filters=512, kernel_size=(3,3), padding='same', activation='relu')(x)\n",
        "\tx = layers.Conv2D(filters=512, kernel_size=(3,3), padding='same', activation='relu')(x)\n",
        "\tx = layers.Conv2D(filters=512, kernel_size=(3,3), padding='same', activation='relu')(x)\n",
        "\tx = layers.MaxPooling2D()(x)\n",
        "\n",
        "\tx = layers.Flatten()(x)\n",
        "\tx = layers.Dense(4096, activation='relu')(x)\n",
        "\tx = layers.Dense(4096, activation='relu')(x)\n",
        "\n",
        "\toutputs = layers.Dense(1000, activation='softmax')(x)\n",
        "\n",
        "\tcustom_vgg16 = Model(inputs, outputs)\n",
        "\n",
        "\treturn custom_vgg16"
      ],
      "metadata": {
        "id": "o6l8TvX4VM82"
      },
      "execution_count": 35,
      "outputs": []
    },
    {
      "cell_type": "markdown",
      "source": [
        "#Load Pretrained weights"
      ],
      "metadata": {
        "id": "MsYjyzTGyENN"
      }
    },
    {
      "cell_type": "code",
      "source": [
        "def load_pretrained_weights(custom_model, original_model):\n",
        "\tlength=len(original_model.layers)\n",
        "\t# print(length)\n",
        "\tfor i in range(length):\n",
        "\t\tcustom_model.layers[i].set_weights(original_model.layers[i].get_weights())"
      ],
      "metadata": {
        "id": "V9cCpdIXVcCJ"
      },
      "execution_count": 36,
      "outputs": []
    },
    {
      "cell_type": "markdown",
      "source": [
        "#Main Function"
      ],
      "metadata": {
        "id": "aN-jRJAuyNC_"
      }
    },
    {
      "cell_type": "code",
      "source": [
        "def main():\n",
        "\n",
        "\tcustom_model = create_model()\n",
        "\toriginal_model = vgg16.VGG16()\n",
        "\n",
        "\tload_pretrained_weights(custom_model, original_model)\n",
        "\n",
        "\tcustom_model.summary()\n",
        "\toriginal_model.summary()"
      ],
      "metadata": {
        "id": "Rtnlrqk_V_Qs"
      },
      "execution_count": 37,
      "outputs": []
    },
    {
      "cell_type": "code",
      "source": [
        "if __name__ == '__main__':\n",
        "\tmain()"
      ],
      "metadata": {
        "colab": {
          "base_uri": "https://localhost:8080/"
        },
        "id": "f_pbUObQWE64",
        "outputId": "0ffd88b6-7359-44bd-bff3-22f06910173e"
      },
      "execution_count": 38,
      "outputs": [
        {
          "output_type": "stream",
          "name": "stdout",
          "text": [
            "Model: \"model_7\"\n",
            "_________________________________________________________________\n",
            " Layer (type)                Output Shape              Param #   \n",
            "=================================================================\n",
            " input_14 (InputLayer)       [(None, 224, 224, 3)]     0         \n",
            "                                                                 \n",
            " conv2d_82 (Conv2D)          (None, 224, 224, 64)      1792      \n",
            "                                                                 \n",
            " conv2d_83 (Conv2D)          (None, 224, 224, 64)      36928     \n",
            "                                                                 \n",
            " max_pooling2d_32 (MaxPooli  (None, 112, 112, 64)      0         \n",
            " ng2D)                                                           \n",
            "                                                                 \n",
            " conv2d_84 (Conv2D)          (None, 112, 112, 128)     73856     \n",
            "                                                                 \n",
            " conv2d_85 (Conv2D)          (None, 112, 112, 128)     147584    \n",
            "                                                                 \n",
            " max_pooling2d_33 (MaxPooli  (None, 56, 56, 128)       0         \n",
            " ng2D)                                                           \n",
            "                                                                 \n",
            " conv2d_86 (Conv2D)          (None, 56, 56, 256)       295168    \n",
            "                                                                 \n",
            " conv2d_87 (Conv2D)          (None, 56, 56, 256)       590080    \n",
            "                                                                 \n",
            " conv2d_88 (Conv2D)          (None, 56, 56, 256)       590080    \n",
            "                                                                 \n",
            " max_pooling2d_34 (MaxPooli  (None, 28, 28, 256)       0         \n",
            " ng2D)                                                           \n",
            "                                                                 \n",
            " conv2d_89 (Conv2D)          (None, 28, 28, 512)       1180160   \n",
            "                                                                 \n",
            " conv2d_90 (Conv2D)          (None, 28, 28, 512)       2359808   \n",
            "                                                                 \n",
            " conv2d_91 (Conv2D)          (None, 28, 28, 512)       2359808   \n",
            "                                                                 \n",
            " max_pooling2d_35 (MaxPooli  (None, 14, 14, 512)       0         \n",
            " ng2D)                                                           \n",
            "                                                                 \n",
            " conv2d_92 (Conv2D)          (None, 14, 14, 512)       2359808   \n",
            "                                                                 \n",
            " conv2d_93 (Conv2D)          (None, 14, 14, 512)       2359808   \n",
            "                                                                 \n",
            " conv2d_94 (Conv2D)          (None, 14, 14, 512)       2359808   \n",
            "                                                                 \n",
            " max_pooling2d_36 (MaxPooli  (None, 7, 7, 512)         0         \n",
            " ng2D)                                                           \n",
            "                                                                 \n",
            " flatten_7 (Flatten)         (None, 25088)             0         \n",
            "                                                                 \n",
            " dense_21 (Dense)            (None, 4096)              102764544 \n",
            "                                                                 \n",
            " dense_22 (Dense)            (None, 4096)              16781312  \n",
            "                                                                 \n",
            " dense_23 (Dense)            (None, 1000)              4097000   \n",
            "                                                                 \n",
            "=================================================================\n",
            "Total params: 138357544 (527.79 MB)\n",
            "Trainable params: 138357544 (527.79 MB)\n",
            "Non-trainable params: 0 (0.00 Byte)\n",
            "_________________________________________________________________\n",
            "Model: \"vgg16\"\n",
            "_________________________________________________________________\n",
            " Layer (type)                Output Shape              Param #   \n",
            "=================================================================\n",
            " input_15 (InputLayer)       [(None, 224, 224, 3)]     0         \n",
            "                                                                 \n",
            " block1_conv1 (Conv2D)       (None, 224, 224, 64)      1792      \n",
            "                                                                 \n",
            " block1_conv2 (Conv2D)       (None, 224, 224, 64)      36928     \n",
            "                                                                 \n",
            " block1_pool (MaxPooling2D)  (None, 112, 112, 64)      0         \n",
            "                                                                 \n",
            " block2_conv1 (Conv2D)       (None, 112, 112, 128)     73856     \n",
            "                                                                 \n",
            " block2_conv2 (Conv2D)       (None, 112, 112, 128)     147584    \n",
            "                                                                 \n",
            " block2_pool (MaxPooling2D)  (None, 56, 56, 128)       0         \n",
            "                                                                 \n",
            " block3_conv1 (Conv2D)       (None, 56, 56, 256)       295168    \n",
            "                                                                 \n",
            " block3_conv2 (Conv2D)       (None, 56, 56, 256)       590080    \n",
            "                                                                 \n",
            " block3_conv3 (Conv2D)       (None, 56, 56, 256)       590080    \n",
            "                                                                 \n",
            " block3_pool (MaxPooling2D)  (None, 28, 28, 256)       0         \n",
            "                                                                 \n",
            " block4_conv1 (Conv2D)       (None, 28, 28, 512)       1180160   \n",
            "                                                                 \n",
            " block4_conv2 (Conv2D)       (None, 28, 28, 512)       2359808   \n",
            "                                                                 \n",
            " block4_conv3 (Conv2D)       (None, 28, 28, 512)       2359808   \n",
            "                                                                 \n",
            " block4_pool (MaxPooling2D)  (None, 14, 14, 512)       0         \n",
            "                                                                 \n",
            " block5_conv1 (Conv2D)       (None, 14, 14, 512)       2359808   \n",
            "                                                                 \n",
            " block5_conv2 (Conv2D)       (None, 14, 14, 512)       2359808   \n",
            "                                                                 \n",
            " block5_conv3 (Conv2D)       (None, 14, 14, 512)       2359808   \n",
            "                                                                 \n",
            " block5_pool (MaxPooling2D)  (None, 7, 7, 512)         0         \n",
            "                                                                 \n",
            " flatten (Flatten)           (None, 25088)             0         \n",
            "                                                                 \n",
            " fc1 (Dense)                 (None, 4096)              102764544 \n",
            "                                                                 \n",
            " fc2 (Dense)                 (None, 4096)              16781312  \n",
            "                                                                 \n",
            " predictions (Dense)         (None, 1000)              4097000   \n",
            "                                                                 \n",
            "=================================================================\n",
            "Total params: 138357544 (527.79 MB)\n",
            "Trainable params: 138357544 (527.79 MB)\n",
            "Non-trainable params: 0 (0.00 Byte)\n",
            "_________________________________________________________________\n"
          ]
        }
      ]
    },
    {
      "cell_type": "markdown",
      "source": [
        "#Model different from vgg16"
      ],
      "metadata": {
        "id": "joAfjaKzeYma"
      }
    },
    {
      "cell_type": "code",
      "source": [
        "def create_vgg_like_model():\n",
        "\n",
        "    inputs = layers.Input(shape=(56, 56, 3))\n",
        "\n",
        "    x = layers.Conv2D(filters=16, kernel_size=(3,3), padding='same', activation='relu')(inputs)\n",
        "    x = layers.Conv2D(filters=16, kernel_size=(3,3), padding='same', activation='relu')(x)\n",
        "    x = layers.AveragePooling2D()(x)\n",
        "\n",
        "    x = layers.Conv2D(filters=32, kernel_size=(3,3), padding='same', activation='relu')(x)\n",
        "    x = layers.Conv2D(filters=32, kernel_size=(3,3), padding='same', activation='relu')(x)\n",
        "    x = layers.AveragePooling2D()(x)\n",
        "\n",
        "    x = layers.Conv2D(filters=64, kernel_size=(3,3), padding='same', activation='relu')(x)\n",
        "    x = layers.Conv2D(filters=64, kernel_size=(3,3), padding='same', activation='relu')(x)\n",
        "    x = layers.Conv2D(filters=64, kernel_size=(3,3), padding='same', activation='relu')(x)\n",
        "    x = layers.Conv2D(filters=64, kernel_size=(3,3), padding='same', activation='relu')(x)\n",
        "    x = layers.AveragePooling2D()(x)\n",
        "\n",
        "    x = layers.Conv2D(filters=128, kernel_size=(3,3), padding='same', activation='relu')(x)\n",
        "    x = layers.Conv2D(filters=128, kernel_size=(3,3), padding='same', activation='relu')(x)\n",
        "    x = layers.Conv2D(filters=128, kernel_size=(3,3), padding='same', activation='relu')(x)\n",
        "    x = layers.AveragePooling2D()(x)\n",
        "\n",
        "    x = layers.Conv2D(filters=128, kernel_size=(3,3), padding='same', activation='relu')(x)\n",
        "    x = layers.Conv2D(filters=128, kernel_size=(3,3), padding='same', activation='relu')(x)\n",
        "    x = layers.Conv2D(filters=128, kernel_size=(3,3), padding='same', activation='relu')(x)\n",
        "    x = layers.AveragePooling2D()(x)\n",
        "\n",
        "    x = layers.GlobalAveragePooling2D()(x)\n",
        "    x = layers.Dense(1024)(x)\n",
        "    x = layers.Dense(1024)(x)\n",
        "\n",
        "    outputs = layers.Dense(1000, activation='softmax')(x)\n",
        "\n",
        "    new_custom_vgg16 = Model(inputs, outputs, name = 'Custom VGG16')\n",
        "\n",
        "    return new_custom_vgg16"
      ],
      "metadata": {
        "id": "xOPzns6len02"
      },
      "execution_count": 39,
      "outputs": []
    },
    {
      "cell_type": "markdown",
      "source": [
        "#Summary of New Model"
      ],
      "metadata": {
        "id": "RQB6euPOyfmb"
      }
    },
    {
      "cell_type": "code",
      "source": [
        "new_custom_model = create_vgg_like_model()\n",
        "new_custom_model.summary()"
      ],
      "metadata": {
        "colab": {
          "base_uri": "https://localhost:8080/"
        },
        "id": "NyRzbyhbylXc",
        "outputId": "02e86504-0a0c-4828-df78-8661e71a87d3"
      },
      "execution_count": 40,
      "outputs": [
        {
          "output_type": "stream",
          "name": "stdout",
          "text": [
            "Model: \"Custom VGG16\"\n",
            "_________________________________________________________________\n",
            " Layer (type)                Output Shape              Param #   \n",
            "=================================================================\n",
            " input_16 (InputLayer)       [(None, 56, 56, 3)]       0         \n",
            "                                                                 \n",
            " conv2d_95 (Conv2D)          (None, 56, 56, 16)        448       \n",
            "                                                                 \n",
            " conv2d_96 (Conv2D)          (None, 56, 56, 16)        2320      \n",
            "                                                                 \n",
            " average_pooling2d (Average  (None, 28, 28, 16)        0         \n",
            " Pooling2D)                                                      \n",
            "                                                                 \n",
            " conv2d_97 (Conv2D)          (None, 28, 28, 32)        4640      \n",
            "                                                                 \n",
            " conv2d_98 (Conv2D)          (None, 28, 28, 32)        9248      \n",
            "                                                                 \n",
            " average_pooling2d_1 (Avera  (None, 14, 14, 32)        0         \n",
            " gePooling2D)                                                    \n",
            "                                                                 \n",
            " conv2d_99 (Conv2D)          (None, 14, 14, 64)        18496     \n",
            "                                                                 \n",
            " conv2d_100 (Conv2D)         (None, 14, 14, 64)        36928     \n",
            "                                                                 \n",
            " conv2d_101 (Conv2D)         (None, 14, 14, 64)        36928     \n",
            "                                                                 \n",
            " conv2d_102 (Conv2D)         (None, 14, 14, 64)        36928     \n",
            "                                                                 \n",
            " average_pooling2d_2 (Avera  (None, 7, 7, 64)          0         \n",
            " gePooling2D)                                                    \n",
            "                                                                 \n",
            " conv2d_103 (Conv2D)         (None, 7, 7, 128)         73856     \n",
            "                                                                 \n",
            " conv2d_104 (Conv2D)         (None, 7, 7, 128)         147584    \n",
            "                                                                 \n",
            " conv2d_105 (Conv2D)         (None, 7, 7, 128)         147584    \n",
            "                                                                 \n",
            " average_pooling2d_3 (Avera  (None, 3, 3, 128)         0         \n",
            " gePooling2D)                                                    \n",
            "                                                                 \n",
            " conv2d_106 (Conv2D)         (None, 3, 3, 128)         147584    \n",
            "                                                                 \n",
            " conv2d_107 (Conv2D)         (None, 3, 3, 128)         147584    \n",
            "                                                                 \n",
            " conv2d_108 (Conv2D)         (None, 3, 3, 128)         147584    \n",
            "                                                                 \n",
            " average_pooling2d_4 (Avera  (None, 1, 1, 128)         0         \n",
            " gePooling2D)                                                    \n",
            "                                                                 \n",
            " global_average_pooling2d (  (None, 128)               0         \n",
            " GlobalAveragePooling2D)                                         \n",
            "                                                                 \n",
            " dense_24 (Dense)            (None, 1024)              132096    \n",
            "                                                                 \n",
            " dense_25 (Dense)            (None, 1024)              1049600   \n",
            "                                                                 \n",
            " dense_26 (Dense)            (None, 1000)              1025000   \n",
            "                                                                 \n",
            "=================================================================\n",
            "Total params: 3164408 (12.07 MB)\n",
            "Trainable params: 3164408 (12.07 MB)\n",
            "Non-trainable params: 0 (0.00 Byte)\n",
            "_________________________________________________________________\n"
          ]
        }
      ]
    }
  ]
}